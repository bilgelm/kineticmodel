{
 "cells": [
  {
   "cell_type": "code",
   "execution_count": 2,
   "metadata": {},
   "outputs": [],
   "source": [
    "%load_ext autoreload\n",
    "%autoreload 2\n",
    "from kineticmodel import SRTM_Zhou2003, SRTM_Lammertsma1996, SRTM2_Lammertsma1996"
   ]
  },
  {
   "cell_type": "code",
   "execution_count": 3,
   "metadata": {
    "collapsed": true
   },
   "outputs": [],
   "source": [
    "import numpy as np\n",
    "#np.random.seed(0)\n",
    "\n",
    "import scipy as sp\n",
    "import matplotlib.pyplot as plt\n",
    "% matplotlib inline\n",
    "import pandas as pd"
   ]
  },
  {
   "cell_type": "code",
   "execution_count": 4,
   "metadata": {},
   "outputs": [
    {
     "data": {
      "image/png": "[encoded data removed]",
      "text/plain": [
       "<matplotlib.figure.Figure at 0x1a433a82f28>"
      ]
     },
     "metadata": {},
     "output_type": "display_data"
    }
   ],
   "source": [
    "table=pd.read_table('SB086-nonPVE.txt')\n",
    "table.columns\n",
    "\n",
    "t= pd.Series.as_matrix(np.mean(table.iloc[:,[0, 1]], axis=1))\n",
    "diff=np.diff(table.iloc[:,[0, 1]], axis=1)\n",
    "dt=np.reshape(diff, np.product(diff.shape))\n",
    "TAC=table.loc[:,'Neocortex']\n",
    "Highbinding= table.loc[:,'HighBinding']\n",
    "refTAC=table.loc[:,'Total_cb']\n",
    "\n",
    "fig, ax = plt.subplots();\n",
    "ax.plot(t, Highbinding, label='Highbinding');\n",
    "ax.plot(t, TAC, label='Neocortex');\n",
    "ax.plot(t, refTAC, label='Cerebellum');\n",
    "ax.set_xlabel('t');\n",
    "ax.set_ylabel('Activity');\n",
    "ax.set_title('Real PET data');\n",
    "ax.legend();"
   ]
  },
  {
   "cell_type": "code",
   "execution_count": 5,
   "metadata": {},
   "outputs": [
    {
     "data": {
      "text/plain": [
       "{'BP': array([ 3.14159387]),\n",
       " 'R1': array([ 1.04832476]),\n",
       " 'akaike': array([ 628.84717125]),\n",
       " 'err': array([ 138.53125375]),\n",
       " 'fpe': array([ 34232064.83685977]),\n",
       " 'k2': array([ 0.06239047]),\n",
       " 'logl': array([-310.42358562]),\n",
       " 'mse': array([ 815049.16278238])}"
      ]
     },
     "execution_count": 5,
     "metadata": {},
     "output_type": "execute_result"
    }
   ],
   "source": [
    "# Initialize SRTM Lammerstma 1996 model\n",
    "mdl_lammertsma = SRTM_Lammertsma1996(t, dt, Highbinding, refTAC, time_unit='s')\n",
    "\n",
    "# fit model\n",
    "mdl_lammertsma.fit();\n",
    "\n",
    "# get model results\n",
    "mdl_lammertsma.results"
   ]
  },
  {
   "cell_type": "code",
   "execution_count": 7,
   "metadata": {},
   "outputs": [
    {
     "ename": "ModuleNotFoundError",
     "evalue": "No module named '__main__.generate_test_data'; '__main__' is not a package",
     "output_type": "error",
     "traceback": [
      "\u001b[1;31m---------------------------------------------------------------------------\u001b[0m",
      "\u001b[1;31mModuleNotFoundError\u001b[0m                       Traceback (most recent call last)",
      "\u001b[1;32m<ipython-input-7-2ac0c486de2f>\u001b[0m in \u001b[0;36m<module>\u001b[1;34m()\u001b[0m\n\u001b[0;32m      7\u001b[0m \u001b[1;31m# get model results\u001b[0m\u001b[1;33m\u001b[0m\u001b[1;33m\u001b[0m\u001b[0m\n\u001b[0;32m      8\u001b[0m \u001b[0mmdl_srtm2\u001b[0m\u001b[1;33m.\u001b[0m\u001b[0mresults\u001b[0m\u001b[1;33m\u001b[0m\u001b[0m\n\u001b[1;32m----> 9\u001b[1;33m \u001b[1;32mfrom\u001b[0m \u001b[1;33m.\u001b[0m\u001b[0mgenerate_test_data\u001b[0m \u001b[1;32mimport\u001b[0m \u001b[0mgenerate_fakeTAC_SRTM\u001b[0m\u001b[1;33m\u001b[0m\u001b[0m\n\u001b[0m\u001b[0;32m     10\u001b[0m \u001b[1;33m\u001b[0m\u001b[0m\n\u001b[0;32m     11\u001b[0m \u001b[0ma\u001b[0m\u001b[1;33m,\u001b[0m \u001b[0mb\u001b[0m\u001b[1;33m,\u001b[0m \u001b[0mc\u001b[0m\u001b[1;33m,\u001b[0m \u001b[0md\u001b[0m \u001b[1;33m=\u001b[0m \u001b[0mgenerate_fakeTAC_SRTM\u001b[0m\u001b[1;33m(\u001b[0m\u001b[0mBP\u001b[0m\u001b[1;33m,\u001b[0m \u001b[0mR1\u001b[0m\u001b[1;33m)\u001b[0m\u001b[1;33m\u001b[0m\u001b[0m\n",
      "\u001b[1;31mModuleNotFoundError\u001b[0m: No module named '__main__.generate_test_data'; '__main__' is not a package"
     ]
    }
   ],
   "source": [
    "# Initialize SRTM2 Lammerstma 1996 model\n",
    "mdl_srtm2 = SRTM2_Lammertsma1996(t, dt, TAC, refTAC, time_unit='s')\n",
    "# print(\"t=\\n{}\".format(t))\n",
    "# fit model\n",
    "mdl_srtm2.fit(Highbinding);\n",
    "\n",
    "# get model results\n",
    "mdl_srtm2.results"
   ]
  },
  {
   "cell_type": "code",
   "execution_count": 6,
   "metadata": {},
   "outputs": [
    {
     "data": {
      "text/plain": [
       "{'BP': array([ 0.58445412]),\n",
       " 'R1': array([ 0.96389944]),\n",
       " 'R1_lrsc': array([ nan]),\n",
       " 'k2': array([ 0.07315396]),\n",
       " 'k2_lrsc': array([ nan]),\n",
       " 'k2a': array([ 0.04608623]),\n",
       " 'k2a_lrsc': array([ nan]),\n",
       " 'noiseVar_eqDVR': array([ 845691.6803029]),\n",
       " 'noiseVar_eqR1': array([ 1865.41023974])}"
      ]
     },
     "execution_count": 6,
     "metadata": {},
     "output_type": "execute_result"
    }
   ],
   "source": [
    "# Initialize SRTM Zhou 2003 model\n",
    "mdl_zhou = SRTM_Zhou2003(t, dt, TAC, refTAC, time_unit='s')\n",
    "\n",
    "mdl_zhou.fit();\n",
    "\n",
    "mdl_zhou.results"
   ]
  }
 ],
 "metadata": {
  "anaconda-cloud": {},
  "kernelspec": {
   "display_name": "Python 3",
   "language": "python",
   "name": "python3"
  },
  "language_info": {
   "codemirror_mode": {
    "name": "ipython",
    "version": 3
   },
   "file_extension": ".py",
   "mimetype": "text/x-python",
   "name": "python",
   "nbconvert_exporter": "python",
   "pygments_lexer": "ipython3",
   "version": "3.6.3"
  }
 },
 "nbformat": 4,
 "nbformat_minor": 2
}

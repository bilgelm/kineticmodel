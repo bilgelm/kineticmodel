{
 "cells": [
  {
   "cell_type": "code",
   "execution_count": 1,
   "metadata": {
    "ExecuteTime": {
     "end_time": "2018-03-01T14:55:27.330993Z",
     "start_time": "2018-03-01T14:55:26.807041Z"
    },
    "collapsed": true
   },
   "outputs": [],
   "source": [
    "%load_ext autoreload\n",
    "%autoreload 2\n",
    "from kineticmodel import SRTM_Zhou2003, SRTM_Lammertsma1996"
   ]
  },
  {
   "cell_type": "code",
   "execution_count": 2,
   "metadata": {
    "ExecuteTime": {
     "end_time": "2018-03-01T14:55:28.505625Z",
     "start_time": "2018-03-01T14:55:27.781604Z"
    },
    "collapsed": true
   },
   "outputs": [],
   "source": [
    "import numpy as np\n",
    "#np.random.seed(0)\n",
    "\n",
    "import scipy as sp\n",
    "import matplotlib.pyplot as plt\n",
    "% matplotlib inline\n",
    "import pandas as pd"
   ]
  },
  {
   "cell_type": "code",
   "execution_count": 4,
   "metadata": {
    "ExecuteTime": {
     "end_time": "2018-03-01T14:55:44.485554Z",
     "start_time": "2018-03-01T14:55:44.130164Z"
    }
   },
   "outputs": [
    {
     "data": {
      "image/png": "[encoded data removed]",
      "text/plain": [
       "<matplotlib.figure.Figure at 0x110258eb8>"
      ]
     },
     "metadata": {},
     "output_type": "display_data"
    }
   ],
   "source": [
    "table=pd.read_table('data/ROI_TAC_nonPVE.txt')\n",
    "table.columns\n",
    "\n",
    "t= pd.Series.as_matrix(np.mean(table.iloc[:,[0, 1]], axis=1))\n",
    "diff=np.diff(table.iloc[:,[0, 1]], axis=1)\n",
    "dt=np.reshape(diff, np.product(diff.shape))\n",
    "TAC=table.loc[:,'Neocortex']\n",
    "refTAC=table.loc[:,'Total_cb']\n",
    "\n",
    "fig, ax = plt.subplots();\n",
    "ax.plot(t, TAC, label='Neocortex');\n",
    "ax.plot(t, refTAC, label='Cerebellum');\n",
    "ax.set_xlabel('t');\n",
    "ax.set_ylabel('Activity');\n",
    "ax.set_title('Real PET data');\n",
    "ax.legend();"
   ]
  },
  {
   "cell_type": "code",
   "execution_count": 5,
   "metadata": {
    "ExecuteTime": {
     "end_time": "2018-03-01T14:55:46.178547Z",
     "start_time": "2018-03-01T14:55:46.009244Z"
    }
   },
   "outputs": [
    {
     "data": {
      "text/plain": [
       "{'BP': array([ 0.58339716]),\n",
       " 'R1': array([ 0.96565319]),\n",
       " 'akaike': array([ 537.00954509]),\n",
       " 'err': array([ 41.37344326]),\n",
       " 'fpe': array([ 3053380.29631685]),\n",
       " 'k2': array([ 0.07252244]),\n",
       " 'logl': array([-264.50477255]),\n",
       " 'mse': array([ 72699.53086469])}"
      ]
     },
     "execution_count": 5,
     "metadata": {},
     "output_type": "execute_result"
    }
   ],
   "source": [
    "# Initialize SRTM Lammerstma 1996 model\n",
    "mdl_lammertsma = SRTM_Lammertsma1996(t, dt, TAC, refTAC, time_unit='s')\n",
    "\n",
    "# fit model\n",
    "mdl_lammertsma.fit();\n",
    "\n",
    "# get model results\n",
    "mdl_lammertsma.results"
   ]
  },
  {
   "cell_type": "code",
   "execution_count": 6,
   "metadata": {
    "ExecuteTime": {
     "end_time": "2018-03-01T14:55:48.022816Z",
     "start_time": "2018-03-01T14:55:47.982184Z"
    }
   },
   "outputs": [
    {
     "data": {
      "text/plain": [
       "{'BP': array([ 0.58445412]),\n",
       " 'R1': array([ 0.96389944]),\n",
       " 'R1_lrsc': array([ nan]),\n",
       " 'k2': array([ 0.07315396]),\n",
       " 'k2_lrsc': array([ nan]),\n",
       " 'k2a': array([ 0.04608623]),\n",
       " 'k2a_lrsc': array([ nan]),\n",
       " 'noiseVar_eqDVR': array([ 845691.6803029]),\n",
       " 'noiseVar_eqR1': array([ 1865.41023974])}"
      ]
     },
     "execution_count": 6,
     "metadata": {},
     "output_type": "execute_result"
    }
   ],
   "source": [
    "# Initialize SRTM Zhou 2003 model\n",
    "mdl_zhou = SRTM_Zhou2003(t, dt, TAC, refTAC, time_unit='s')\n",
    "\n",
    "mdl_zhou.fit();\n",
    "\n",
    "mdl_zhou.results"
   ]
  },
  {
   "cell_type": "code",
   "execution_count": null,
   "metadata": {
    "collapsed": true
   },
   "outputs": [],
   "source": []
  }
 ],
 "metadata": {
  "anaconda-cloud": {},
  "kernelspec": {
   "display_name": "Python 3",
   "language": "python",
   "name": "python3"
  },
  "language_info": {
   "codemirror_mode": {
    "name": "ipython",
    "version": 3
   },
   "file_extension": ".py",
   "mimetype": "text/x-python",
   "name": "python",
   "nbconvert_exporter": "python",
   "pygments_lexer": "ipython3",
   "version": "3.6.1"
  },
  "toc": {
   "nav_menu": {},
   "number_sections": true,
   "sideBar": true,
   "skip_h1_title": false,
   "toc_cell": false,
   "toc_position": {},
   "toc_section_display": "block",
   "toc_window_display": false
  }
 },
 "nbformat": 4,
 "nbformat_minor": 2
}
